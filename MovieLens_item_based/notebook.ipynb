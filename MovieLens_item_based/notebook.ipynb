{
 "cells": [
  {
   "cell_type": "code",
   "execution_count": 3,
   "metadata": {
    "collapsed": true
   },
   "outputs": [
    {
     "name": "stdout",
     "output_type": "stream",
     "text": [
      "(9742, 3)\n",
      "(100836, 4)\n"
     ]
    }
   ],
   "source": [
    "import pandas as pd\n",
    "import numpy as np\n",
    "\n",
    "movies = pd.read_csv('./dataset/movie_lens/movies.csv')\n",
    "ratings = pd.read_csv('./dataset/movie_lens/ratings.csv')\n",
    "print(movies.shape)\n",
    "print(ratings.shape)"
   ]
  },
  {
   "cell_type": "code",
   "execution_count": 8,
   "outputs": [
    {
     "data": {
      "text/plain": "   userId  movieId  rating  timestamp\n0       1        1     4.0  964982703",
      "text/html": "<div>\n<style scoped>\n    .dataframe tbody tr th:only-of-type {\n        vertical-align: middle;\n    }\n\n    .dataframe tbody tr th {\n        vertical-align: top;\n    }\n\n    .dataframe thead th {\n        text-align: right;\n    }\n</style>\n<table border=\"1\" class=\"dataframe\">\n  <thead>\n    <tr style=\"text-align: right;\">\n      <th></th>\n      <th>userId</th>\n      <th>movieId</th>\n      <th>rating</th>\n      <th>timestamp</th>\n    </tr>\n  </thead>\n  <tbody>\n    <tr>\n      <th>0</th>\n      <td>1</td>\n      <td>1</td>\n      <td>4.0</td>\n      <td>964982703</td>\n    </tr>\n  </tbody>\n</table>\n</div>"
     },
     "execution_count": 8,
     "metadata": {},
     "output_type": "execute_result"
    }
   ],
   "source": [
    "# ratings.csv : 사용자별로 영화에 대한 평점을 매긴 데이터 셋\n",
    "# userId, movieId, rating\n",
    "ratings.head(1)"
   ],
   "metadata": {
    "collapsed": false,
    "pycharm": {
     "name": "#%%\n"
    }
   }
  },
  {
   "cell_type": "code",
   "execution_count": 9,
   "outputs": [
    {
     "data": {
      "text/plain": "   movieId             title                                       genres\n0        1  Toy Story (1995)  Adventure|Animation|Children|Comedy|Fantasy",
      "text/html": "<div>\n<style scoped>\n    .dataframe tbody tr th:only-of-type {\n        vertical-align: middle;\n    }\n\n    .dataframe tbody tr th {\n        vertical-align: top;\n    }\n\n    .dataframe thead th {\n        text-align: right;\n    }\n</style>\n<table border=\"1\" class=\"dataframe\">\n  <thead>\n    <tr style=\"text-align: right;\">\n      <th></th>\n      <th>movieId</th>\n      <th>title</th>\n      <th>genres</th>\n    </tr>\n  </thead>\n  <tbody>\n    <tr>\n      <th>0</th>\n      <td>1</td>\n      <td>Toy Story (1995)</td>\n      <td>Adventure|Animation|Children|Comedy|Fantasy</td>\n    </tr>\n  </tbody>\n</table>\n</div>"
     },
     "execution_count": 9,
     "metadata": {},
     "output_type": "execute_result"
    }
   ],
   "source": [
    "movies.head(1)"
   ],
   "metadata": {
    "collapsed": false,
    "pycharm": {
     "name": "#%%\n"
    }
   }
  },
  {
   "cell_type": "code",
   "execution_count": 11,
   "outputs": [
    {
     "data": {
      "text/plain": "movieId  1       2       3       4       5       6       7       8       \\\nuserId                                                                    \n1           4.0     NaN     4.0     NaN     NaN     4.0     NaN     NaN   \n2           NaN     NaN     NaN     NaN     NaN     NaN     NaN     NaN   \n3           NaN     NaN     NaN     NaN     NaN     NaN     NaN     NaN   \n\nmovieId  9       10      ...  193565  193567  193571  193573  193579  193581  \\\nuserId                   ...                                                   \n1           NaN     NaN  ...     NaN     NaN     NaN     NaN     NaN     NaN   \n2           NaN     NaN  ...     NaN     NaN     NaN     NaN     NaN     NaN   \n3           NaN     NaN  ...     NaN     NaN     NaN     NaN     NaN     NaN   \n\nmovieId  193583  193585  193587  193609  \nuserId                                   \n1           NaN     NaN     NaN     NaN  \n2           NaN     NaN     NaN     NaN  \n3           NaN     NaN     NaN     NaN  \n\n[3 rows x 9724 columns]",
      "text/html": "<div>\n<style scoped>\n    .dataframe tbody tr th:only-of-type {\n        vertical-align: middle;\n    }\n\n    .dataframe tbody tr th {\n        vertical-align: top;\n    }\n\n    .dataframe thead th {\n        text-align: right;\n    }\n</style>\n<table border=\"1\" class=\"dataframe\">\n  <thead>\n    <tr style=\"text-align: right;\">\n      <th>movieId</th>\n      <th>1</th>\n      <th>2</th>\n      <th>3</th>\n      <th>4</th>\n      <th>5</th>\n      <th>6</th>\n      <th>7</th>\n      <th>8</th>\n      <th>9</th>\n      <th>10</th>\n      <th>...</th>\n      <th>193565</th>\n      <th>193567</th>\n      <th>193571</th>\n      <th>193573</th>\n      <th>193579</th>\n      <th>193581</th>\n      <th>193583</th>\n      <th>193585</th>\n      <th>193587</th>\n      <th>193609</th>\n    </tr>\n    <tr>\n      <th>userId</th>\n      <th></th>\n      <th></th>\n      <th></th>\n      <th></th>\n      <th></th>\n      <th></th>\n      <th></th>\n      <th></th>\n      <th></th>\n      <th></th>\n      <th></th>\n      <th></th>\n      <th></th>\n      <th></th>\n      <th></th>\n      <th></th>\n      <th></th>\n      <th></th>\n      <th></th>\n      <th></th>\n      <th></th>\n    </tr>\n  </thead>\n  <tbody>\n    <tr>\n      <th>1</th>\n      <td>4.0</td>\n      <td>NaN</td>\n      <td>4.0</td>\n      <td>NaN</td>\n      <td>NaN</td>\n      <td>4.0</td>\n      <td>NaN</td>\n      <td>NaN</td>\n      <td>NaN</td>\n      <td>NaN</td>\n      <td>...</td>\n      <td>NaN</td>\n      <td>NaN</td>\n      <td>NaN</td>\n      <td>NaN</td>\n      <td>NaN</td>\n      <td>NaN</td>\n      <td>NaN</td>\n      <td>NaN</td>\n      <td>NaN</td>\n      <td>NaN</td>\n    </tr>\n    <tr>\n      <th>2</th>\n      <td>NaN</td>\n      <td>NaN</td>\n      <td>NaN</td>\n      <td>NaN</td>\n      <td>NaN</td>\n      <td>NaN</td>\n      <td>NaN</td>\n      <td>NaN</td>\n      <td>NaN</td>\n      <td>NaN</td>\n      <td>...</td>\n      <td>NaN</td>\n      <td>NaN</td>\n      <td>NaN</td>\n      <td>NaN</td>\n      <td>NaN</td>\n      <td>NaN</td>\n      <td>NaN</td>\n      <td>NaN</td>\n      <td>NaN</td>\n      <td>NaN</td>\n    </tr>\n    <tr>\n      <th>3</th>\n      <td>NaN</td>\n      <td>NaN</td>\n      <td>NaN</td>\n      <td>NaN</td>\n      <td>NaN</td>\n      <td>NaN</td>\n      <td>NaN</td>\n      <td>NaN</td>\n      <td>NaN</td>\n      <td>NaN</td>\n      <td>...</td>\n      <td>NaN</td>\n      <td>NaN</td>\n      <td>NaN</td>\n      <td>NaN</td>\n      <td>NaN</td>\n      <td>NaN</td>\n      <td>NaN</td>\n      <td>NaN</td>\n      <td>NaN</td>\n      <td>NaN</td>\n    </tr>\n  </tbody>\n</table>\n<p>3 rows × 9724 columns</p>\n</div>"
     },
     "execution_count": 11,
     "metadata": {},
     "output_type": "execute_result"
    }
   ],
   "source": [
    "# 협업 필터링은 이 ratings.csv 데이터셋과 같이 사용자와 아이템간의 평점(또는 다른 유형의 액션)에 기반해 추천하는 시스템\n",
    "# 1. 행 레벨 형태의 원본 데이터셋을 모든 사용자를 행으로 모든 영화를 컬럼으로 변경\n",
    "# pivot_table 함수로 편하게 처리할 수 있음\n",
    "ratings = ratings[['userId', 'movieId', 'rating']]\n",
    "ratings_matrix = ratings.pivot_table('rating', index='userId', columns='movieId')\n",
    "ratings_matrix.head(3)"
   ],
   "metadata": {
    "collapsed": false,
    "pycharm": {
     "name": "#%%\n"
    }
   }
  },
  {
   "cell_type": "code",
   "execution_count": 13,
   "outputs": [
    {
     "data": {
      "text/plain": "title   '71 (2014)  'Hellboy': The Seeds of Creation (2004)  \\\nuserId                                                        \n1              0.0                                      0.0   \n2              0.0                                      0.0   \n3              0.0                                      0.0   \n\ntitle   'Round Midnight (1986)  'Salem's Lot (2004)  \\\nuserId                                                \n1                          0.0                  0.0   \n2                          0.0                  0.0   \n3                          0.0                  0.0   \n\ntitle   'Til There Was You (1997)  'Tis the Season for Love (2015)  \\\nuserId                                                               \n1                             0.0                              0.0   \n2                             0.0                              0.0   \n3                             0.0                              0.0   \n\ntitle   'burbs, The (1989)  'night Mother (1986)  (500) Days of Summer (2009)  \\\nuserId                                                                          \n1                      0.0                   0.0                          0.0   \n2                      0.0                   0.0                          0.0   \n3                      0.0                   0.0                          0.0   \n\ntitle   *batteries not included (1987)  ...  Zulu (2013)  [REC] (2007)  \\\nuserId                                  ...                              \n1                                  0.0  ...          0.0           0.0   \n2                                  0.0  ...          0.0           0.0   \n3                                  0.0  ...          0.0           0.0   \n\ntitle   [REC]² (2009)  [REC]³ 3 Génesis (2012)  \\\nuserId                                           \n1                 0.0                      0.0   \n2                 0.0                      0.0   \n3                 0.0                      0.0   \n\ntitle   anohana: The Flower We Saw That Day - The Movie (2013)  \\\nuserId                                                           \n1                                                     0.0        \n2                                                     0.0        \n3                                                     0.0        \n\ntitle   eXistenZ (1999)  xXx (2002)  xXx: State of the Union (2005)  \\\nuserId                                                                \n1                   0.0         0.0                             0.0   \n2                   0.0         0.0                             0.0   \n3                   0.0         0.0                             0.0   \n\ntitle   ¡Three Amigos! (1986)  À nous la liberté (Freedom for Us) (1931)  \nuserId                                                                    \n1                         4.0                                        0.0  \n2                         0.0                                        0.0  \n3                         0.0                                        0.0  \n\n[3 rows x 9719 columns]",
      "text/html": "<div>\n<style scoped>\n    .dataframe tbody tr th:only-of-type {\n        vertical-align: middle;\n    }\n\n    .dataframe tbody tr th {\n        vertical-align: top;\n    }\n\n    .dataframe thead th {\n        text-align: right;\n    }\n</style>\n<table border=\"1\" class=\"dataframe\">\n  <thead>\n    <tr style=\"text-align: right;\">\n      <th>title</th>\n      <th>'71 (2014)</th>\n      <th>'Hellboy': The Seeds of Creation (2004)</th>\n      <th>'Round Midnight (1986)</th>\n      <th>'Salem's Lot (2004)</th>\n      <th>'Til There Was You (1997)</th>\n      <th>'Tis the Season for Love (2015)</th>\n      <th>'burbs, The (1989)</th>\n      <th>'night Mother (1986)</th>\n      <th>(500) Days of Summer (2009)</th>\n      <th>*batteries not included (1987)</th>\n      <th>...</th>\n      <th>Zulu (2013)</th>\n      <th>[REC] (2007)</th>\n      <th>[REC]² (2009)</th>\n      <th>[REC]³ 3 Génesis (2012)</th>\n      <th>anohana: The Flower We Saw That Day - The Movie (2013)</th>\n      <th>eXistenZ (1999)</th>\n      <th>xXx (2002)</th>\n      <th>xXx: State of the Union (2005)</th>\n      <th>¡Three Amigos! (1986)</th>\n      <th>À nous la liberté (Freedom for Us) (1931)</th>\n    </tr>\n    <tr>\n      <th>userId</th>\n      <th></th>\n      <th></th>\n      <th></th>\n      <th></th>\n      <th></th>\n      <th></th>\n      <th></th>\n      <th></th>\n      <th></th>\n      <th></th>\n      <th></th>\n      <th></th>\n      <th></th>\n      <th></th>\n      <th></th>\n      <th></th>\n      <th></th>\n      <th></th>\n      <th></th>\n      <th></th>\n      <th></th>\n    </tr>\n  </thead>\n  <tbody>\n    <tr>\n      <th>1</th>\n      <td>0.0</td>\n      <td>0.0</td>\n      <td>0.0</td>\n      <td>0.0</td>\n      <td>0.0</td>\n      <td>0.0</td>\n      <td>0.0</td>\n      <td>0.0</td>\n      <td>0.0</td>\n      <td>0.0</td>\n      <td>...</td>\n      <td>0.0</td>\n      <td>0.0</td>\n      <td>0.0</td>\n      <td>0.0</td>\n      <td>0.0</td>\n      <td>0.0</td>\n      <td>0.0</td>\n      <td>0.0</td>\n      <td>4.0</td>\n      <td>0.0</td>\n    </tr>\n    <tr>\n      <th>2</th>\n      <td>0.0</td>\n      <td>0.0</td>\n      <td>0.0</td>\n      <td>0.0</td>\n      <td>0.0</td>\n      <td>0.0</td>\n      <td>0.0</td>\n      <td>0.0</td>\n      <td>0.0</td>\n      <td>0.0</td>\n      <td>...</td>\n      <td>0.0</td>\n      <td>0.0</td>\n      <td>0.0</td>\n      <td>0.0</td>\n      <td>0.0</td>\n      <td>0.0</td>\n      <td>0.0</td>\n      <td>0.0</td>\n      <td>0.0</td>\n      <td>0.0</td>\n    </tr>\n    <tr>\n      <th>3</th>\n      <td>0.0</td>\n      <td>0.0</td>\n      <td>0.0</td>\n      <td>0.0</td>\n      <td>0.0</td>\n      <td>0.0</td>\n      <td>0.0</td>\n      <td>0.0</td>\n      <td>0.0</td>\n      <td>0.0</td>\n      <td>...</td>\n      <td>0.0</td>\n      <td>0.0</td>\n      <td>0.0</td>\n      <td>0.0</td>\n      <td>0.0</td>\n      <td>0.0</td>\n      <td>0.0</td>\n      <td>0.0</td>\n      <td>0.0</td>\n      <td>0.0</td>\n    </tr>\n  </tbody>\n</table>\n<p>3 rows × 9719 columns</p>\n</div>"
     },
     "execution_count": 13,
     "metadata": {},
     "output_type": "execute_result"
    }
   ],
   "source": [
    "# 최소 평점이 0.5이기 때문에 NaN값은 모두 0으로 변환\n",
    "# movie_id 를 title로 변경\n",
    "\n",
    "# title 컬럼을 얻기 위해 movies와 조인\n",
    "rating_movies = pd.merge(ratings, movies, on='movieId')\n",
    "\n",
    "# columns='title'로 title 컬럼으로 피벗 수행\n",
    "ratings_matrix = rating_movies.pivot_table('rating', index='userId', columns='title')\n",
    "\n",
    "# NaN값 모두 0으로 변환\n",
    "ratings_matrix = ratings_matrix.fillna(0)\n",
    "ratings_matrix.head(3)"
   ],
   "metadata": {
    "collapsed": false,
    "pycharm": {
     "name": "#%%\n"
    }
   }
  },
  {
   "cell_type": "code",
   "execution_count": null,
   "outputs": [],
   "source": [],
   "metadata": {
    "collapsed": false,
    "pycharm": {
     "name": "#%%\n"
    }
   }
  }
 ],
 "metadata": {
  "kernelspec": {
   "display_name": "Python 3",
   "language": "python",
   "name": "python3"
  },
  "language_info": {
   "codemirror_mode": {
    "name": "ipython",
    "version": 2
   },
   "file_extension": ".py",
   "mimetype": "text/x-python",
   "name": "python",
   "nbconvert_exporter": "python",
   "pygments_lexer": "ipython2",
   "version": "2.7.6"
  }
 },
 "nbformat": 4,
 "nbformat_minor": 0
}